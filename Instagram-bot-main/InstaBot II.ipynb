{
 "cells": [
  {
   "cell_type": "markdown",
   "metadata": {},
   "source": [
    "#### Name : Abhedya Shukla\n",
    "#### email:  abhedya21@gmail.com"
   ]
  },
  {
   "cell_type": "markdown",
   "metadata": {},
   "source": [
    "# Project InstaBot -2"
   ]
  },
  {
   "cell_type": "code",
   "execution_count": 1,
   "metadata": {},
   "outputs": [],
   "source": [
    "from selenium import webdriver\n",
    "from selenium.webdriver.common.by import By\n",
    "from selenium.common.exceptions import NoSuchElementException\n",
    "from bs4 import BeautifulSoup\n",
    "import time\n",
    "from getpass import getpass\n",
    "import matplotlib.pyplot as plt"
   ]
  },
  {
   "cell_type": "code",
   "execution_count": 2,
   "metadata": {},
   "outputs": [],
   "source": [
    "driver = webdriver.Chrome(executable_path = \"F:/chromedriver.exe\")"
   ]
  },
  {
   "cell_type": "code",
   "execution_count": 3,
   "metadata": {},
   "outputs": [],
   "source": [
    "driver.get(\"https://www.instagram.com/\")"
   ]
  },
  {
   "cell_type": "markdown",
   "metadata": {},
   "source": [
    "### Brief explanation of each function used in project\n",
    "\n",
    "\n",
    "#### loginToIntagram:\n",
    "used 1 time in project just for login purpose. Takes 3 arg: driver, username, password.\n",
    "\n",
    "\n",
    "#### searchProfile:\n",
    "used in almost all parts of project. Used for search a profile and open it. 2 arg: driver, username.\n",
    "\n",
    "\n",
    "#### get10Profiles:\n",
    "returns a list of top 10 profile displayed when \"food\" is searched.\n",
    "\n",
    "\n",
    "#### getTop5Followers:\n",
    "returns 2 lists, one contains username and other contains there followers count. These are those 5 usernames which has most number of followers among the top 10 profiles found in previous function. \n",
    "\n",
    "\n",
    "#### dictSort:\n",
    "this function is called from above function (getTop5Followers) to sort the dictionary on the basis of its values and returns 2 lists. This function is not used directly in the program.\n",
    "\n",
    "\n",
    "#### postDays:\n",
    "This function prints and returns number of posts these handles have done in the previous 3 days.\n",
    "This return a list.\n",
    "\n",
    "#### getContentOf10Posts:\n",
    "This function scrap the content of top 10 post from these handles and stores then in a string and returns that string for finding frequency of each word.\n",
    "\n",
    "\n",
    "#### likeRatio:\n",
    "This function finds number of likes from top 10 post from each of the top5 profiles. Also fum sum and average of these likes and number of followers as a list."
   ]
  },
  {
   "cell_type": "code",
   "execution_count": 130,
   "metadata": {},
   "outputs": [],
   "source": [
    "# Here you will find All functions used in project\n",
    "\n",
    "def loginToIntagram(driver, usrnam, paswrd):\n",
    "    usernameBox = driver.find_element_by_name('username')\n",
    "    usernameBox.send_keys(usrnam)\n",
    "    passwordBox = driver.find_element_by_name('password')\n",
    "    passwordBox.send_keys(paswrd)\n",
    "    passwordBox.submit()\n",
    "    time.sleep(2)\n",
    "\n",
    "    \n",
    "def searchProfile(driver, usrnme):\n",
    "    search = driver.find_element_by_class_name('XTCLo')\n",
    "    search.send_keys(usrnme)\n",
    "    time.sleep(3)\n",
    "    profile = driver.find_element_by_class_name('yCE8d')\n",
    "    profile.click()\n",
    "    \n",
    "    \n",
    "def get10Profiles(driver, usrid):\n",
    "    search = driver.find_element_by_class_name('XTCLo')\n",
    "    search.send_keys(usrid)\n",
    "    time.sleep(3)\n",
    "    username = driver.find_elements_by_class_name('Ap253')\n",
    "    lstOfUser = []\n",
    "    time.sleep(2)\n",
    "    for x in range(10):\n",
    "            lstOfUser.append(username[x].text)\n",
    "    search.clear()\n",
    "    return lstOfUser\n",
    "\n",
    "def getTop5Followers(driver, lst):\n",
    "    dict = {}\n",
    "    for x in lst:\n",
    "        searchProfile(driver, x)\n",
    "        time.sleep(3)\n",
    "        followers = driver.find_elements_by_class_name('g47SY')[1]\n",
    "        No_of_Followers = followers.get_attribute('title')\n",
    "        No_of_Followers = No_of_Followers.replace(',', \"\")\n",
    "        dict[x] = int(No_of_Followers)\n",
    "    l1, l2 = dictSort(dict)\n",
    "    return l1, l2\n",
    "        \n",
    "def dictSort(d):\n",
    "    lst = sorted(d, key=d.get, reverse=True)   \n",
    "    count=0\n",
    "    l1 = []\n",
    "    l2 = []\n",
    "    for x in lst:\n",
    "        count+=1\n",
    "        print(x, \": \", d[x])\n",
    "        l1.append(x)\n",
    "        l2.append(d[x])\n",
    "        if count>=5:\n",
    "            break\n",
    "    return l1, l2\n",
    "\n",
    "\n",
    "def postDays(driver, lst):\n",
    "    l = []\n",
    "    for x in lst:\n",
    "        searchProfile(driver, x)\n",
    "        time.sleep(2)\n",
    "        count = 0\n",
    "        firstPost = driver.find_element_by_class_name('_9AhH0')\n",
    "        firstPost.click()\n",
    "        time.sleep(3)\n",
    "        while True:\n",
    "            uploadDay = driver.find_element_by_class_name('Nzb55')\n",
    "            #print(uploadDay.text)\n",
    "            if uploadDay.text[1]==\"h\":\n",
    "                count+=1\n",
    "                driver.find_element_by_class_name('_65Bje').click()\n",
    "                time.sleep(3)\n",
    "            else:\n",
    "                dayAgo = int(uploadDay.text[:1])\n",
    "                if dayAgo <= 3:\n",
    "                    count+=1\n",
    "                    driver.find_element_by_class_name('_65Bje').click()\n",
    "                    time.sleep(3)\n",
    "                else:\n",
    "                    print(x, \": \", count)\n",
    "                    driver.find_element_by_css_selector(\"svg[aria-label='Close']\").click()\n",
    "                    time.sleep(2)\n",
    "                    break\n",
    "        l.append(count)\n",
    "    return l\n",
    "\n",
    "\n",
    "def getContentOf10Posts(driver, top5, s = \"\"):\n",
    "    for username in top5:\n",
    "        searchProfile(driver, username)\n",
    "        firstPost = driver.find_element_by_class_name('_9AhH0')\n",
    "        firstPost.click()\n",
    "        time.sleep(3)\n",
    "        for x in range(10):\n",
    "            content = driver.find_element_by_class_name('C4VMK')\n",
    "            s = s + \" \" + content.text.replace(\"\\n\", \" \")\n",
    "            time.sleep(1)\n",
    "            nextPost = driver.find_element_by_class_name('_65Bje')\n",
    "            nextPost.click()\n",
    "            time.sleep(3)\n",
    "        driver.find_element_by_css_selector(\"svg[aria-label='Close']\").click()\n",
    "    return s\n",
    "\n",
    "\n",
    "def likeRatio(driver, top5):\n",
    "    avgLike = []\n",
    "    followerList = []\n",
    "    for username in top5:\n",
    "        searchProfile(driver, username)\n",
    "        time.sleep(2)\n",
    "        followers = driver.find_elements_by_class_name('g47SY')[1]\n",
    "        No_of_Followers = followers.get_attribute('title')\n",
    "        No_of_Followers = int(No_of_Followers.replace(',', \"\"))\n",
    "        firstPost = driver.find_element_by_class_name('_9AhH0')\n",
    "        firstPost.click()\n",
    "        time.sleep(3)\n",
    "        likeSum = 0\n",
    "        for x in range(10):\n",
    "            try:\n",
    "                like = driver.find_element_by_xpath('//div[@class = \"Nm9Fw\"]/button/span')\n",
    "                currentPostLike = int(like.text.replace(\",\",\"\"))\n",
    "            except NoSuchElementException:\n",
    "                views = driver.find_element_by_xpath('//span[@class = \"vcOH2\"]/span')\n",
    "                views.click()\n",
    "                time.sleep(1)\n",
    "                like = driver.find_element_by_xpath('//div[@class = \"vJRqr\"]/span')\n",
    "                currentPostLike = int(like.text.replace(\",\",\"\"))\n",
    "                driver.execute_script(\"arguments[0].click();\", views)\n",
    "\n",
    "            \n",
    "            likeSum = likeSum + currentPostLike\n",
    "            time.sleep(1)\n",
    "            nextPost = driver.find_element_by_class_name('_65Bje')\n",
    "            nextPost.click()\n",
    "            time.sleep(3)\n",
    "                \n",
    "                \n",
    "        driver.find_element_by_css_selector(\"svg[aria-label='Close']\").click()\n",
    "        avgLike.append(likeSum/10)\n",
    "        followerList.append(No_of_Followers)\n",
    "    return avgLike, followerList"
   ]
  },
  {
   "cell_type": "markdown",
   "metadata": {},
   "source": [
    "## LOGIN"
   ]
  },
  {
   "cell_type": "code",
   "execution_count": 5,
   "metadata": {},
   "outputs": [
    {
     "name": "stdout",
     "output_type": "stream",
     "text": [
      "Enter Your UserName: forinstabot\n",
      "Enter Your Password: ········\n"
     ]
    }
   ],
   "source": [
    "## enter your credentials\n",
    "userid = input(\"Enter Your UserName: \")\n",
    "passwrd = getpass(\"Enter Your Password: \")\n",
    "loginToIntagram(driver, userid, passwrd)"
   ]
  },
  {
   "cell_type": "code",
   "execution_count": 14,
   "metadata": {},
   "outputs": [
    {
     "name": "stdout",
     "output_type": "stream",
     "text": [
      "Given below is the list of top 10 accounts under 'Food' search: \n",
      "['foodtalkindia', 'dilsefoodie', 'yourfoodlab', 'foodie_incarnate', 'anileo1794', 'food_lunatic', 'food', 'food_toheal_yoursoul', 'foodinsider', 'buzzfeedfood']\n"
     ]
    }
   ],
   "source": [
    "# first 10 profile when search food\n",
    "lst = get10Profiles(driver, 'food')\n",
    "print(\"Given below is the list of top 10 accounts under 'Food' search: \")\n",
    "print(lst)"
   ]
  },
  {
   "cell_type": "markdown",
   "metadata": {},
   "source": [
    "### Question 1\n",
    "\n",
    "Now your friend has followed a lot of different food bloggers, he needs to analyse the habits of these bloggers.\n",
    "1. From the list of instagram handles you obtained when you searched ‘food’ in previous project. Open the first 10 handles and find the top 5 which have the highest number of followers\n",
    "2. Now Find the number of posts these handles have done in the previous 3 days.\n",
    "3. Depict this information using a suitable graph."
   ]
  },
  {
   "cell_type": "code",
   "execution_count": 15,
   "metadata": {},
   "outputs": [
    {
     "name": "stdout",
     "output_type": "stream",
     "text": [
      "Top 5 username and there follwers count in 'Food'\n",
      "buzzfeedfood :  3650448\n",
      "foodinsider :  2178821\n",
      "yourfoodlab :  1428468\n",
      "dilsefoodie :  631681\n",
      "foodtalkindia :  302544\n",
      "\n",
      "\n",
      "Graph\n"
     ]
    },
    {
     "data": {
      "image/png": "[encoded data removed]",
      "text/plain": [
       "<Figure size 432x288 with 1 Axes>"
      ]
     },
     "metadata": {
      "needs_background": "light"
     },
     "output_type": "display_data"
    }
   ],
   "source": [
    "# ques 1.1\n",
    "# top 5 profile having highest number of followers\n",
    "print(\"Top 5 username and there follwers count in 'Food'\")\n",
    "top5, value = getTop5Followers(driver, lst)\n",
    "print(\"\\n\")\n",
    "print(\"Graph\")\n",
    "plt.bar(top5, value,width=0.5)\n",
    "plt.ylabel(\"No of followers\")\n",
    "plt.xlabel(\"UserName\")\n",
    "plt.title(\"Followers count of top 5 users in 'Food'\")\n",
    "plt.show()"
   ]
  },
  {
   "cell_type": "code",
   "execution_count": 16,
   "metadata": {},
   "outputs": [
    {
     "name": "stdout",
     "output_type": "stream",
     "text": [
      "Top 5 username and there posts count in last 3 days'\n",
      "buzzfeedfood :  1\n",
      "foodinsider :  4\n",
      "yourfoodlab :  4\n",
      "dilsefoodie :  5\n",
      "foodtalkindia :  3\n",
      "\n",
      "\n",
      "Graph\n"
     ]
    },
    {
     "data": {
      "image/png": "[encoded data removed]",
      "text/plain": [
       "<Figure size 432x288 with 1 Axes>"
      ]
     },
     "metadata": {
      "needs_background": "light"
     },
     "output_type": "display_data"
    }
   ],
   "source": [
    "# ques 1.2\n",
    "# number of posts these handles have done in the previous 3 days.\n",
    "print(\"Top 5 username and there posts count in last 3 days'\")\n",
    "count = postDays(driver, top5)\n",
    "print(\"\\n\")\n",
    "\n",
    "# ques 1.3\n",
    "# Depict this information using a suitable graph.\n",
    "print(\"Graph\")\n",
    "plt.plot(top5, count, \"go--\")\n",
    "plt.ylabel(\"Post Count (last 3 days)\")\n",
    "plt.xlabel(\"UserName\")\n",
    "plt.title(\"Posts count of top 5 users in 'Food' in last 3 days\")\n",
    "plt.show()"
   ]
  },
  {
   "cell_type": "markdown",
   "metadata": {},
   "source": [
    "### Question 2\n",
    "\n",
    "Your friend also needs a list of hashtags that he should use in his posts.\n",
    "1. Open the 5 handles you obtained in the last question, and scrape the content of the first 10 posts of each handle.\n",
    "2. Prepare a list of all words used in all the scraped posts and calculate the frequency of each word.\n",
    "3. Create a csv file with two columns : the word and its frequency\n",
    "4. Now, find the hashtags that were most popular among these bloggers\n",
    "5. Plot a Pie Chart of the top 5 hashtags obtained and the number of times they were used by these bloggers in the scraped posts."
   ]
  },
  {
   "cell_type": "code",
   "execution_count": 19,
   "metadata": {},
   "outputs": [
    {
     "data": {
      "text/plain": [
       "' buzzfeedfood Verified Drool alert! Get ready for some seriously mouth-watering meals with Tasty Savory Seasoning Mix created by McCormick. Get cooking with your very own spices by clicking the link in bio! 3d buzzfeedfood Verified You\\'re one meal away from your future. Link in bio 💻 4d buzzfeedfood Verified Bon appétit! Link in bio 💻 4d buzzfeedfood Verified Schnitzel or soup dumplings? You decide. Link in bio 🔗 5d buzzfeedfood Verified \"Chicano Eats\" is as much a piece of art as it is a cookbook. Link in bio 👆 5d buzzfeedfood Verified Would you eat a bowl of chili on your first date? Link in bio 👀 5d buzzfeedfood Verified Game. Changer. Link in bio 👆 5d buzzfeedfood Verified Cookware staples, gadgets reviewers swear by, and delicious treats, all at #PrimeDay prices that are truly ::chef’s kiss:: Link in bio ✨ (via @buzzfeedshopping) 5d buzzfeedfood Verified It\\'s undoubtedly confusing, but these little tips will help. Link in bio 🧐 6d buzzfeedfood Verified Calling all ketchup lovers ❤️. Link in bio 👀 6d foodinsider Verified With many staying home more during the pandemic, a lot of people have been trying their hand at baking. Social-media users have seen their share of perfect sourdough loaves on their feeds, but not every trial is a success. Click the link in bio to see more baking fails.  (Credit: Laura Daniel/Instagram, Adrienne Gibson/Instagram, caitlin.april.ellen/Instagram, Melanie Anderson/Instagram, bored_in_self_isolation/Instagram, Jessie/Instagram) 16h foodinsider Verified Celebrity chefs love to share recipes, and we love to try them out. Kylie Jenner, Chrissy Teigen, Antoni Porowski, and Joanna Gaines have each shared numerous recipes with fans, but none are quite as free-spirited as their individual takes on the classic grilled-cheese sandwich. Click the link in our bio to see the full recipes.  (Credit: Rachel Askinasi/Insider) 3d foodinsider Verified Arizona State Fair\\'s Top 3 Foods  Back in October 2019, we went to the Arizona State Fair to try the best foods there. The Arizona State Fair is known for having a wide variety of foods, and is well known for their spicy food options. We tried everything from homemade fudge to a foot-long corndog, but narrowed it down to a top 3.  Featuring @diningwithskyler  #arizona #statefair #corndog 3d foodinsider Verified New York City\\'s Eleven Madison Park has launched a dine-at-home meal kit while its three Michelin-starred restaurant remains closed. The $275 meal serves two to four diners, and is available for collection in the Tri State area.  Click the link in our bio to see how you can get your hands on one.  Story by Grace Dean.  (Credit: Evan Sung) 3d foodinsider Verified Cheesy Chili 5-Way Is An Award-Winning Midwest Staple Worth The Drive  Camp Washington Chili in Cincinnati earned a James Beard award for their “Regional Classic” chili recipe. Their Chili 5-way is served on a bed of spaghetti, topped with onions, beans, and a mound of shredded cheddar cheese. Insider producer @jakegabbard drove to Ohio to see if this award-winning Midwestern classic is truly Worth The Drive.  #chili #cincinnati #midwest 4d foodinsider Verified Customers can collect their fast food contact-free by ordering on KFC\\'s app and then entering their order code to open the locker.  KFC plans to roll out the lockers on a larger scale in the future, it said. Click the link in our bio to read more.  (Credit: Getty Images) #kfc #kfclocker #kfcjapan 5d foodinsider Verified $8 Plates Of Ukrainian Food In NYC Are Hidden In A Chiropractor\\'s Basement  In the East Village of New York City, just six blocks from Washington Square Park, there\\'s a chiropractor\\'s office. And if you follow the steps into the basement below, you\\'ll find this hidden Ukrainian kitchen. Streecha serves delicious plates of Ukrainian dumplings, called varenyky, and other traditional foods for less than $8.  #ukranian #newyorkcity #food #dumplings 5d foodinsider Verified Via @insider_reviews: Amazon Prime Day 2020 is here, and with it are some of the biggest discounts on cookware, countertop appliances, and kitchen essentials. Click the link in our bio to see the best kitchen deals going on right now.  (Credit: Tyler Murphy/Insider Reviews, Alyssa Powell/@bi_graphics, Amazon)  #amazon #amazonprimeday #primeday #primeday2020 #kitchendeals 6d foodinsider Verified The Best Fried Chicken In Atlanta Best In Town  Insider’s @rinnny_ and @alanayzola visit three famous fried chicken restaurants in Atlanta to find the best one. They visit Busy Bee Cafe, Mary Mac’s Tea Room, and JCT Kitchen & Bar.  #friedchicken #atlanta #chicken 6d foodinsider Verified The latest viral video to sweep the internet out from under its feet features 37-year-old Nathan Apodaca lipsyncing to Fleetwood Mac on a longboard with a bottle of cranberry juice in tow. On a personal level, Apodaca said that the video\\'s success and a wave of donations have helped him to be more \"comfortable\" financially. Click the link in our bio to read the full story.  (Credit: 420doggface208/TikTok) 1w yourfoodlab Verified Quick Veg Pulao Recipe in Cooker by Chef @sanjyotkeer  . . . . Navratri has begun and I got so many requests for recipes without onion and garlic and also for vrat recipes. I have prepared both in the past and this one is a quick recipe for the people who don’t consume onion and garlic during this festive period. The recipe turns out super good and is so quick to prep. I topped it with some cucumber, pomegranate and almond slivers to add that fresh bite to the Pulao, do try it it tastes awesome. Also if you don’t consume some ingredients from which I have used, do avoid those ingredients. This is not a vrat recipe but a recipes for the viewers who turn vegetarian for these 9 days and also don’t consume onion and garlic. Happy Navratri to all! . . . . #recipes #recipeoftheday #foodiesofinstagram #foodporn #foodphotography #streetfood #food #indiancuisine #rice 18h yourfoodlab Verified My no onion no garlic Quick Veg Pulao Recipe prepped in Cooker recipe is out now on Facebook & YouTube! Check it out!  Navratri has begun and I got so many requests for recipes without onion and garlic and also for vrat recipes. I have prepared both in the past and this one is a quick recipe for the people who don’t consume onion and garlic during this festive period. The recipe turns out super good and is so quick to prep. I topped it with some cucumber, pomegranate and almond slivers to add that fresh bite to the Pulao, do try it it tastes awesome. Also if you don’t consume some ingredients from which I have used, do avoid those ingredients. This is not a vrat recipe but a recipes for the viewers who turn vegetarian for these 9 days and also don’t consume onion and garlic. Happy Navratri to all! . . . . #recipes #pulao #foodporn #brightwin #foodiesofinstagram #foodlover #rice #recipeoftheday #mumbaifoodie #sanjyotkeer #mumbaistreetfood #mumbaifood 1d yourfoodlab Verified Rava Dosa by Chef @sanjyotkeer . . . . . #recipe #foodie #foodstagram #dosa #dosalover #indianclicks #indiancuisine #streetfood 2d yourfoodlab Verified No Onion No Garlic Palak Paneer by Chef @sanjyotkeer  . . . . #recipe #foodie #indiancuisine #streetfood #foodporn #comfortfood #streetphotography #sanjyotkeer #food #navratri #noonionnogarlic #foodie 3d yourfoodlab Verified Egg Chowmein Roll by Chef @sanjyotkeer  . . . . Posting this egg recipe just before the no- non vegetarian zone starts day after! The roll turns out to be amazing, I personally love noodle Frankie and I used to have it when I was studying in Podar in my junior college days. This is a version with egg and desi Chowmein because both go really well. You can avoid the cheese but do add some schezwan sauce and the Frankie masala. I will leave a link for the Frankie Masala in the YouTube description box! Cheers!! . . . . #recipes #recipeoftheday #foodporn #food #yourfoodlab #sanjyotkeer #streetfood #comfortfood #frankie 4d yourfoodlab Verified Egg Chowmein Roll recipe is out now on Facebook & YouTube! Check it out! Posting this egg recipe just before the no- non vegetarian zone starts day after! The roll turns out to be amazing, I personally love noodle Frankie and I used to have it when I was studying in Podar in my junior college days. This is a version with egg and desi Chowmein because both go really well. You can avoid the cheese but do add some schezwan sauce and the Frankie masala. I will leave a link for the Frankie Masala in the YouTube description box! Cheers!! . . . . #recipeoftheday #frankie #rolls #foodporn #streetstyle #streetfood #comfortfood #yummyfood #noodles #noodle #sanjyotkeer #foodstagram 4d yourfoodlab Verified Paneer Crust Pizza by Chef @sanjyotkeer  . . . . Pizza on a Paneer? Yes! This one is a must try for all my veggie paneer lovers out there. Crispy home made Italian herbed paneer topped with all the pizza goodness. There is no bread in this pizza and the crust is the paneer it self! Watch it now on Facebook & YouTube! One of my latest favorites. I am experimenting a lot with pizzas these days and I had prepared a masala paneer pakora very recently and it just blew up on Facebook and got more than 15 million views. While experimenting with pizza I just tried this version, a pizza on paneer and that too a freshly made Italian Herbed paneer. It tastes incredible and you should try it! . . . #recipe #foodie #mumbaifoodie #mumbaistreetfood #comfortfood #sanjyotkeer #streetfood #foodporn #yourfoodlab #mumbaifood #recipeoftheday 5d yourfoodlab Verified Pizza on a Paneer? Yes! This one is a must try for all my veggie paneer lovers out there. Crispy home made Italian herbed paneer topped with all the pizza goodness. There is no bread in this pizza and the crust is the paneer it self! Watch it now on Facebook & YouTube! One of my latest favorites. I am experimenting a lot with pizzas these days and I had prepared a masala paneer pakora very recently and it just blew up on Facebook and got more than 15 million views. While experimenting with pizza I just tried this version, a pizza on paneer and that too a freshly made Italian Herbed paneer. It tastes incredible and you should try it! . . . #recipe #reelsinstagram #streetfood #paneer #pizza #pizzalover #pizzapizzapizza #food #pizzatime #paneer #paneerlove #sanjyot 5d yourfoodlab Verified Eggless Almond Cake by Chef @sanjyotkeer  I usually don’t bake much on the channel but yes I do try out a lot of baking for myself in the kitchen. This is one recipe which I loved and is really easy to do and is eggless too! So try this recipe and let me know how did you like it! . . . #recipes #foodie #cake #cakesofinstagram #foodporn #sanjyotkeer #comfortfood 6d yourfoodlab Verified Eggless Almond Tea Time Cake is out now on Facebook & YouTube!! I usually don’t bake much on the channel but yes I do try out a lot of baking for myself in the kitchen. This is one recipe which I loved and is really easy to do and is eggless too! So try this recipe and let me know how did you like it! . . . . #recipe #foodie #foodiesofinstagram #cakestagram #cakedecorating #cakecakecake #cakedesigner #almond #almondcake #teatimesnacks #tealovers #sanjyotkeer #mumbai_ig 6d dilsefoodie Verified They Are Making Restaurant Style Food At Home  You Can Place Your Order At @cookerystoriesbyarshinder #dilsefoodie 16h dilsefoodie Verified Next Episode DugDugDug Series @pavneetsachdeva #dilsefoodie #dugdugdug 1d dilsefoodie Verified So, It\\'s Not Only Mine Birthday But Yes Dad\\'s Too 😁  Thank You Soo Much Guys For All Your Love And Wishes. I Love You All Of You Not Only Fans But My Hatters Too. Thanks For Always Motivating Me To Make Content For You And Your Family. #dilsefoodie #Dad #Love 2d dilsefoodie Verified Tried @donergyrosindia At Cyberhub  We tried Peri Peri Chicken Doner & Mutton Gyros Along With Lemonade. Tag Someone Who Would Love To Try This And Working In Cyberhub. #dilsefoodie 2d dilsefoodie Verified Fluffiest Omelette Recipe By Karan Dua  Bhai Sahab Maza Agya Ye Bana Ke Will Try Some Other Variety Of Omelettes Too. #dilsefoodie 3d dilsefoodie Verified Here’s the best kind of fudge, the Oreo Fudge! 😋  Get going and share your Oreo Recipe to enter the delightful OreoReciPic Challenge and stand a chance to win* ₹1 Lakh 1. Click a picture of your best Oreo dish 2. Share it on Facebook/Instagram using #OreoReciPic 3. Tag and follow @Oreo.India Instagram page 4. Stand a chance to win* ₹1 Lakh or a year’s supply of Oreo! Winning dishes will be recreated by Pooja Dhingra and Rohan Joshi - using just your picture! What are you waiting for? Add your creative twist to your Oreo dish and share your entry before the contest ends on 28th oct *T&C apply. Stand a chance to win ₹1 Lakh. For more visit: https://bit.ly/OreoReciPicTnC #Oreo #ContestAlert #RecipeContest #Contestgram #Contestgiveaway #Competition #Participate #India  Sharing my little recipe with you! Ingredients: Oreo biscuits full pack 14 pcs Condensed milk 1 tin White chocolate 400gms  Process: Chop oreo vanilla biscuits in six parts each. Put the white chocolate in a heatproof bowl on double boiler and melt your chocolate then pour in the condensed milk or microwave on full power for 30 seconds. Remove and stir, heating for 20-second bursts at a time, until all the chocolate has melted and the mixture is thick and smooth.  Spread 90% crushed Oreos over the mixture and mix. Grease a cake tin and layer it with butter paper and pour over the ready batter. Arrange the remaining Oreos on top and press them down with your fingertips. Smooth the surface of the fudge using a knife.  Place the tray in the fridge for 4 to 5 hours to set. Use a sharp knife to cut the fudge into bite-sized pieces before serving.  Tasty treats all the way! Go create your recipe and share it with me. 😋😋 4d dilsefoodie Verified Giving Him Bribe For 2 Spoon Of Sugar Free Ice Cream  If He Finish His Medicine 🙄. #dilsefoodie #dad #love #forever 5d dilsefoodie Verified CR PARK MARKET I  Chinese Chaat At CR Park Is Must Try And Mughlai Parantha 😁 #dilsefoodie 5d dilsefoodie Verified Amritsar Ka Best Kulcha At Pehalwan Kulcha  Tag Someone Who Love Amritsari Kulcha #dilsefoodie 6d dilsefoodie Verified Cheese Slice Wala Parantha Recipe By @chatpati_shikha  Tag Cheese Lovers Who Love To Try This Recipe. #dilsefoodie 1w foodtalkindia Verified #GiveawayAlert  Do you love absolutely everything about a dessert with apples and spice the way we do? Then gear up for this one’s for you!  We’ve partnered with Sommet Education,  a leading hospitality education group comprising of Glion Institute of Higher Education and Les Roches to bring you a super fun challenge.  Inspired by Glion’s famous Apple Tatin, here’s a recipe to get your creativity going- pie it, crumble it or cake it- show us your home experiments with apple desserts and stand a chance to win a gastronomy masterclass with culinary experts from Glion Institute of Higher Education! 🥧🍎  All you have to do: • Tag your fellow dessert lover and tell us your favourite apple dessert • Share your creation on your stories and tag @foodtalkindia, @glionhospitalityschool and @lesrochesswitzerland P.S. • Participants must have public accounts for us to track activations • 10 winners will be picked at random • Contest closes on Sunday, 25th October. #LesRochesConnect #LesRochesWayOfLife #GlionConnect #GlionSpirit 1d foodtalkindia Verified We’re back with yet another exciting collaboration with Sommet Education, bringing you their Connect Programs by Glion Institute of Higher Education and Les Roches that are specially designed for first year bachelors students unable to travel to their campuses in Europe right now to get a head start on their hospitality journey. Considering an education in hospitality management? Head to the link in our bio and catch all the details you need.  Here’s our founder, @anjali__batra bringing you a lovely Apple Cinnamon Pie inspired by their beautiful Apple Tatin recipe. 🍎🥧  All you dessert lovers, we have a super fun challenge coming your way to see your experiments with apple desserts- so stay tuned!  @glionhospitalityschool @lesrochesswitzerland #LesRochesConnect #LesRochesWayOfLife #GlionConnect #GlionSpirit 2d foodtalkindia Verified From a chocolate bowl for people with a sweet tooth to a ‘beachside’ bowl that will remind you of the summer, Delhi\\'s newest healthy eatery @eatdirtygood has some delicious smoothie bowls! They even do healthy banana and chocolate breads and as well as cold brews. Their dark chocolate monster cookies are something you don’t want to miss out on, these chunky cookies are all about the flavours that pop in each bite from sea salt and dark chocolate.  . So if you’re in the mood to indulge but want to keep it healthy, try out their treats.  . The pond, safdarjung enclave.  Open everyday, 10:30 to 7 for takeaways and deliveries. 📞 8860601512 3d foodtalkindia Verified #ContestAlert 🍹 There are a lot of offerings found in the Forest, and this time we\\'re giving away a pack of @jadeforestin Grapefruit Tonic Water to a few wild ones. It’s as easy as taking a stroll in the forest, all you have to do is comment below: • Mention your city • Tag three friends who you drink with • Follow @jadeforestin • Winners will be announced on our stories on Monday. 5d foodtalkindia Verified Happy Dessert Day! 🥮🍰 What is the national sweet of India?  Here are all the sweet delicious contenders! Vote for your favourite one in the comments section… 5d foodtalkindia Verified Usain bolt up the stairs! 😰🏃\\u200d♂️ 6d foodtalkindia Verified #NewInTown . Curators of Indie and Artisanal food products grown sustainably and delivered hygienically, @khhetofficial is a project of passion for spreading the concept of healthy and sustainable nutrition. Khhet takes that notion forward for holistic well-being and the whole “we are what we eat.” concept.  Their curated menu of products brings quality food right to your plate.  . Each brand listed on the menu has its own unique story to tell with most of them being Indian home grown brands, with artisanal products grown sustainably. The fish and meats menu has been specially curated with high quality products sourced from all over the world.  . Delivering in Delhi-NCR, get ordering!  DM them or whatsapp them on 8287353881 1w foodtalkindia Verified Which McDonalds logo do you prefer? 🍟🍔 Tell us in the comments below... 1w foodtalkindia Verified Happy World Egg Day! 🍳#WorldEggDay  A simple scramble or a sunny side up or shirred eggs! What’s your go to, tell us below in the comments section? 1w foodtalkindia Verified Can’t wait to eat here 1w'"
      ]
     },
     "execution_count": 19,
     "metadata": {},
     "output_type": "execute_result"
    }
   ],
   "source": [
    "# ques 2.1\n",
    "#  and scrape the content of the first 10 posts of each handle\n",
    "allContent = getContentOf10Posts(driver, top5)\n",
    "allContent\n",
    "# storing all content of top 10 posts from tpo 5 handles in a single string\n",
    "# Its huge string but it makes easier to count words frequency"
   ]
  },
  {
   "cell_type": "code",
   "execution_count": 37,
   "metadata": {},
   "outputs": [
    {
     "name": "stdout",
     "output_type": "stream",
     "text": [
      "the :  88\n",
      "and :  87\n",
      "a :  70\n",
      "to :  63\n",
      "in :  51\n",
      "Verified :  50\n",
      "is :  36\n",
      "on :  35\n",
      "for :  34\n",
      "of :  33\n"
     ]
    }
   ],
   "source": [
    "# ques 2.2\n",
    "# Prepare a list of all words used in all the scraped posts and calculate the frequency of each word.\n",
    "import operator\n",
    "str_list = allContent.replace(\".\", \"\").split()\n",
    "unique_words = list(set(str_list))\n",
    "word_count = []\n",
    "dict = {}\n",
    "for words in unique_words : \n",
    "    word_count.append(str_list.count(words))\n",
    "for i in range(len(word_count)):\n",
    "    dict[unique_words[i]] = word_count[i]\n",
    "sorted_dict = sorted(dict.items(), key=operator.itemgetter(1), reverse = True)\n",
    "#printing top10 just for overview \n",
    "for i in range(10):\n",
    "    print(sorted_dict[i][0], \": \", sorted_dict[i][1])"
   ]
  },
  {
   "cell_type": "code",
   "execution_count": 41,
   "metadata": {},
   "outputs": [
    {
     "data": {
      "text/html": [
       "<div>\n",
       "<style scoped>\n",
       "    .dataframe tbody tr th:only-of-type {\n",
       "        vertical-align: middle;\n",
       "    }\n",
       "\n",
       "    .dataframe tbody tr th {\n",
       "        vertical-align: top;\n",
       "    }\n",
       "\n",
       "    .dataframe thead th {\n",
       "        text-align: right;\n",
       "    }\n",
       "</style>\n",
       "<table border=\"1\" class=\"dataframe\">\n",
       "  <thead>\n",
       "    <tr style=\"text-align: right;\">\n",
       "      <th></th>\n",
       "      <th>Word</th>\n",
       "      <th>Count</th>\n",
       "    </tr>\n",
       "  </thead>\n",
       "  <tbody>\n",
       "    <tr>\n",
       "      <th>0</th>\n",
       "      <td>#atlanta</td>\n",
       "      <td>1</td>\n",
       "    </tr>\n",
       "    <tr>\n",
       "      <th>1</th>\n",
       "      <td>three</td>\n",
       "      <td>3</td>\n",
       "    </tr>\n",
       "    <tr>\n",
       "      <th>2</th>\n",
       "      <td>😋😋</td>\n",
       "      <td>1</td>\n",
       "    </tr>\n",
       "    <tr>\n",
       "      <th>3</th>\n",
       "      <td>pizza</td>\n",
       "      <td>8</td>\n",
       "    </tr>\n",
       "    <tr>\n",
       "      <th>4</th>\n",
       "      <td>section?</td>\n",
       "      <td>1</td>\n",
       "    </tr>\n",
       "  </tbody>\n",
       "</table>\n",
       "</div>"
      ],
      "text/plain": [
       "       Word  Count\n",
       "0  #atlanta      1\n",
       "1     three      3\n",
       "2        😋😋      1\n",
       "3     pizza      8\n",
       "4  section?      1"
      ]
     },
     "execution_count": 41,
     "metadata": {},
     "output_type": "execute_result"
    }
   ],
   "source": [
    "# ques 2.3\n",
    "# creating CSV file\n",
    "import pandas as pd\n",
    "df = pd.DataFrame(list(zip(unique_words, word_count)), columns =['Word', 'Count']) \n",
    "df.to_csv('Instabot1_wordCount.csv')\n",
    "df.head() "
   ]
  },
  {
   "cell_type": "code",
   "execution_count": 88,
   "metadata": {},
   "outputs": [
    {
     "name": "stdout",
     "output_type": "stream",
     "text": [
      "           Hashtag  Frequency\n",
      "0     #dilsefoodie          9\n",
      "1        #foodporn          7\n",
      "2     #sanjyotkeer          7\n",
      "3      #streetfood          7\n",
      "4          #foodie          6\n",
      "5  #recipeoftheday          5\n",
      "6     #comfortfood          5\n",
      "7            #food          5\n",
      "8          #recipe          5\n",
      "9         #recipes          4\n"
     ]
    }
   ],
   "source": [
    "# ques 2.4\n",
    "# printing Top10 most used hashtags (popular hashtags)\n",
    "hashtag = df.Word\n",
    "boolarr = []\n",
    "for i in range (len(hashtag)):\n",
    "    if hashtag[i][0] == \"#\":\n",
    "        boolarr.append(i)\n",
    "dict = {\"Hashtag\": df.Word[boolarr], \"Frequency\": df.Count[boolarr]}\n",
    "df1 = pd.DataFrame(dict)\n",
    "df1.sort_values(\"Frequency\", ascending = False, inplace = True)\n",
    "df1.reset_index(drop=True,inplace=True)\n",
    "print(df1[:10])"
   ]
  },
  {
   "cell_type": "code",
   "execution_count": 92,
   "metadata": {},
   "outputs": [
    {
     "data": {
      "image/png": "[encoded data removed]",
      "text/plain": [
       "<Figure size 432x288 with 1 Axes>"
      ]
     },
     "metadata": {},
     "output_type": "display_data"
    }
   ],
   "source": [
    "# ques 2.5\n",
    "#Pie chart\n",
    "hastTag = list(df1.Hashtag[:5])\n",
    "counts =  list(df1.Frequency[:5])\n",
    "plt.pie(counts, labels=hastTag)\n",
    "plt.show()"
   ]
  },
  {
   "cell_type": "markdown",
   "metadata": {},
   "source": [
    "### Question 3\n",
    "\n",
    "You need to also calculate average followers : likes ratio for the obtained handles.\n",
    "Followers : Likes ratio is calculated as follows:\n",
    "1. Find out the likes of the top 10 posts of the 5 handles obtained earlier.\n",
    "2. Calculate the average likes for a handle.\n",
    "3. Divide the average likes obtained from the number of followers of the handle to get the average followers:like ratio of each handle.\n",
    "4. Create a bar graph to depict the above obtained information."
   ]
  },
  {
   "cell_type": "code",
   "execution_count": 141,
   "metadata": {},
   "outputs": [
    {
     "name": "stdout",
     "output_type": "stream",
     "text": [
      "buzzfeedfood : \n",
      "avgLike:  1597.4\n",
      "No_of_Followers:  3649978\n",
      "followers:like Ratio:  2284.9492926004755\n",
      "\n",
      "\n",
      "foodinsider : \n",
      "avgLike:  7814.0\n",
      "No_of_Followers:  2178831\n",
      "followers:like Ratio:  278.83683132838496\n",
      "\n",
      "\n",
      "yourfoodlab : \n",
      "avgLike:  25238.6\n",
      "No_of_Followers:  1429812\n",
      "followers:like Ratio:  56.65179526598148\n",
      "\n",
      "\n",
      "dilsefoodie : \n",
      "avgLike:  10203.3\n",
      "No_of_Followers:  632675\n",
      "followers:like Ratio:  62.00689972851921\n",
      "\n",
      "\n",
      "foodtalkindia : \n",
      "avgLike:  557.9\n",
      "No_of_Followers:  302565\n",
      "followers:like Ratio:  542.3283742606202\n",
      "\n",
      "\n"
     ]
    }
   ],
   "source": [
    "# ques 3.1, 3.2\n",
    "# in 3.1 the list of he likes of the top 10 posts of the 5 handles is not printed \n",
    "# not asked to print this list so it is just found out in the function below and avglike has been calculated and printed\n",
    "avgLike, totalFollowers = likeRatio(driver, top5) # likes and avglikes are found in this function\n",
    "ratio = []\n",
    "# ques 3.3\n",
    "for i in range(len(top5)):\n",
    "    ratio.append(totalFollowers[i]/avgLike[i])\n",
    "for i in range(len(top5)):\n",
    "    print(top5[i],\": \")\n",
    "    print(\"avgLike: \", avgLike[i]) \n",
    "    print(\"No_of_Followers: \", totalFollowers[i])\n",
    "    print(\"followers:like Ratio: \", ratio[i])\n",
    "    print(\"\\n\")"
   ]
  },
  {
   "cell_type": "code",
   "execution_count": 142,
   "metadata": {},
   "outputs": [
    {
     "data": {
      "image/png": "[encoded data removed]",
      "text/plain": [
       "<Figure size 432x288 with 1 Axes>"
      ]
     },
     "metadata": {
      "needs_background": "light"
     },
     "output_type": "display_data"
    }
   ],
   "source": [
    "# ques 3.4\n",
    "plt.bar(top5, ratio,width=0.5)\n",
    "plt.ylabel(\"followers:like Ratio\")\n",
    "plt.xlabel(\"UserName\")\n",
    "plt.title(\"Followers:Like Ratio\")\n",
    "plt.show()"
   ]
  },
  {
   "cell_type": "code",
   "execution_count": null,
   "metadata": {},
   "outputs": [],
   "source": []
  }
 ],
 "metadata": {
  "kernelspec": {
   "display_name": "Python 3",
   "language": "python",
   "name": "python3"
  },
  "language_info": {
   "codemirror_mode": {
    "name": "ipython",
    "version": 3
   },
   "file_extension": ".py",
   "mimetype": "text/x-python",
   "name": "python",
   "nbconvert_exporter": "python",
   "pygments_lexer": "ipython3",
   "version": "3.7.3"
  }
 },
 "nbformat": 4,
 "nbformat_minor": 2
}
