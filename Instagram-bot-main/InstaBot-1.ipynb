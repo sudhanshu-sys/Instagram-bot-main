{
 "cells": [
  {
   "cell_type": "markdown",
   "metadata": {},
   "source": [
    "### Name : Abhedya Shukla\n",
    "### email:  abhedya21@gmail.com"
   ]
  },
  {
   "cell_type": "markdown",
   "metadata": {},
   "source": [
    "# Project InstaBot -1"
   ]
  },
  {
   "cell_type": "code",
   "execution_count": 25,
   "metadata": {},
   "outputs": [],
   "source": [
    "from selenium import webdriver\n",
    "from selenium.webdriver.common.by import By\n",
    "from selenium.common.exceptions import NoSuchElementException\n",
    "from bs4 import BeautifulSoup\n",
    "import time\n",
    "from getpass import getpass"
   ]
  },
  {
   "cell_type": "code",
   "execution_count": 4,
   "metadata": {},
   "outputs": [],
   "source": [
    "driver = webdriver.Chrome(executable_path = \"F:/chromedriver.exe\")"
   ]
  },
  {
   "cell_type": "code",
   "execution_count": 5,
   "metadata": {},
   "outputs": [],
   "source": [
    "driver.get(\"https://www.instagram.com/\")"
   ]
  },
  {
   "cell_type": "code",
   "execution_count": 21,
   "metadata": {},
   "outputs": [],
   "source": [
    "# Here you will find All functions used in project\n",
    "\n",
    "#used in ques1\n",
    "def loginToIntagram(driver, usrnam, paswrd):\n",
    "    usernameBox = driver.find_element_by_name('username')\n",
    "    usernameBox.send_keys(usrnam)\n",
    "    passwordBox = driver.find_element_by_name('password')\n",
    "    passwordBox.send_keys(paswrd)\n",
    "    passwordBox.submit()\n",
    "    time.sleep(2)\n",
    "    \n",
    "#used in ques2    \n",
    "def printAllName(driver, usrid):\n",
    "    search = driver.find_element_by_class_name('XTCLo')\n",
    "    search.send_keys(usrid)\n",
    "    time.sleep(3)\n",
    "    username = driver.find_elements_by_class_name('Ap253')\n",
    "    names = driver.find_elements_by_class_name('Fy4o8')\n",
    "    time.sleep(2)\n",
    "    for x in range(len(names)):\n",
    "        if \"#\" not in username[x].text:\n",
    "            print(username[x].text, \" :   \", names[x].text)\n",
    "    search.clear()\n",
    "    \n",
    "#used in almost all ques   \n",
    "def searchProfile(driver, usrnme):\n",
    "    search = driver.find_element_by_class_name('XTCLo')\n",
    "    search.send_keys(usrnme)\n",
    "    time.sleep(3)\n",
    "    profile = driver.find_element_by_class_name('yCE8d')\n",
    "    profile.click()\n",
    "\n",
    "#used in ques 4.2\n",
    "def follow(driver):\n",
    "    try:\n",
    "        message = driver.find_element_by_class_name('sqdOP')\n",
    "        print(\"Already following\")\n",
    "    except NoSuchElementException:\n",
    "        follow = driver.find_element_by_class_name('_5f5mN')\n",
    "        follow.click()\n",
    "        print(\"followed\")\n",
    "        \n",
    "#used in ques 4.3 \n",
    "def unfollow(driver):\n",
    "    try:\n",
    "        message = driver.find_element_by_class_name('sqdOP')\n",
    "        follow = driver.find_element_by_class_name('_5f5mN')\n",
    "        follow.click()\n",
    "        driver.find_element_by_class_name('aOOlW').click()\n",
    "        print(\"Unfollowed\")\n",
    "    except NoSuchElementException:\n",
    "        print(\"Already unfollowing\")\n",
    "        \n",
    "#used in ques1 5.1\n",
    "def likePost(driver):\n",
    "    firstPost = driver.find_element_by_class_name('_9AhH0')\n",
    "    firstPost.click()\n",
    "    time.sleep(3)\n",
    "    for x in range(30):\n",
    "        try:\n",
    "            ans = driver.find_element_by_css_selector(\"span[class='fr66n'] svg[aria-label='Like']\")\n",
    "            ans.click()\n",
    "            #print(\"liked\")\n",
    "        except NoSuchElementException:\n",
    "            print(\"Photo Number \"+ str(x+1) + \" Already liked\")\n",
    "        ans1 = driver.find_element_by_class_name('_65Bje')\n",
    "        ans1.click()\n",
    "        time.sleep(2)\n",
    "        \n",
    "#used in ques 5.2       \n",
    "def unlikePost(driver):\n",
    "    firstPost = driver.find_element_by_class_name('_9AhH0')\n",
    "    firstPost.click()\n",
    "    time.sleep(3)\n",
    "    for x in range(30):\n",
    "        try:\n",
    "            ans = driver.find_element_by_css_selector(\"span[class='fr66n'] svg[aria-label= 'Unlike']\")\n",
    "            ans.click()\n",
    "            #print(\"Unliked\")\n",
    "        except NoSuchElementException:\n",
    "            print(\"Photo Number \"+ str(x+1) + \" Already Unliked\")\n",
    "        ans1 = driver.find_element_by_class_name('_65Bje')\n",
    "        ans1.click()\n",
    "        time.sleep(1)\n",
    "        \n",
    "#used in ques 6.1     \n",
    "def first500Followers(driver):\n",
    "    a = driver.find_element_by_class_name('isgrP')\n",
    "    for i in range(50) :\n",
    "        driver.execute_script('arguments[0].scrollTop = arguments[0].scrollHeight',a)\n",
    "        time.sleep(1)\n",
    "    followers = driver.find_elements_by_class_name('FPmhX')\n",
    "    lst = []\n",
    "    for x in range(500):\n",
    "        lst.append(followers[x].text)\n",
    "        #print(followers[x].text, end = \", \" )\n",
    "        \n",
    "#used in ques 6.2      \n",
    "def mutualFollowers(driver):\n",
    "    mutualfoll = driver.find_elements_by_xpath('//span[@class = \"_32eiM\"]')\n",
    "    l=[]\n",
    "    for x in range(len(mutualfoll)):\n",
    "        l.append(mutualfoll[x].text)\n",
    "    return l\n",
    "\n",
    "#used in ques 6.2 \n",
    "def myFollowers(driver):\n",
    "    profile = driver.find_element_by_xpath('//span[@class = \"_2dbep qNELH\"]')\n",
    "    profile.click()\n",
    "    gotoprofile = driver.find_element_by_xpath('//div[@class = \"_7UhW9   xLCgt      MMzan  KV-D4              fDxYl     \"]')\n",
    "    gotoprofile.click()\n",
    "    time.sleep(2)\n",
    "    ans1 = driver.find_elements_by_class_name('-nal3')\n",
    "    ans1[1].click()\n",
    "    foll = driver.find_elements_by_xpath('//div[@class = \"PZuss\"]//span[@class = \"Jv7Aj mArmR MqpiF  \"]/a')\n",
    "    l1=[]\n",
    "    for x in range(len(foll)):\n",
    "        l1.append(foll[x].text)\n",
    "    return l1\n",
    "\n",
    "#used in ques 7 all parts\n",
    "def stories(driver):\n",
    "    story = driver.find_element_by_xpath('//div[@class = \"XjzKX\"]/div')\n",
    "    htmlContent =  BeautifulSoup(story.get_attribute(\"outerHTML\"), 'html.parser')\n",
    "    widthOfCanvas = int(htmlContent.canvas['width'])\n",
    "    storyPostedOrNot = len(htmlContent.div['class']) \n",
    "    # IF class == \"RR-M- h5uC0\": story present AND, IF class == \"RR-M-\": story Not present\n",
    "    # that means IF storyOrNot == 2: story present AND, IF class == 1: story Not present\n",
    "    ## IF widthOfCanvas == 210 : Unseen story \n",
    "    ## IF widthOfCanvas == 208 : Seen story\n",
    "    if widthOfCanvas == 210 and storyPostedOrNot == 2:\n",
    "        print(\"Unseen story\")\n",
    "        story.click()\n",
    "        time.sleep(20)\n",
    "    elif widthOfCanvas == 208 and storyPostedOrNot == 2:\n",
    "        print(\"This story is already seen... No need to see again\")\n",
    "    elif storyPostedOrNot == 1:\n",
    "        print(\"No story found\")\n",
    "    try:\n",
    "        driver.find_element_by_css_selector(\"svg[aria-label='Close']\").click()\n",
    "    except NoSuchElementException:\n",
    "        return"
   ]
  },
  {
   "cell_type": "code",
   "execution_count": 7,
   "metadata": {},
   "outputs": [
    {
     "name": "stdout",
     "output_type": "stream",
     "text": [
      "Enter Your UserName: forinstabot\n",
      "Enter Your Password: ········\n"
     ]
    }
   ],
   "source": [
    "# Question 1 - login:\n",
    "## enter your credentials\n",
    "userid = input(\"Enter Your UserName: \")\n",
    "passwrd = getpass(\"Enter Your Password: \")\n",
    "loginToIntagram(driver, userid, passwrd)"
   ]
  },
  {
   "cell_type": "code",
   "execution_count": 8,
   "metadata": {},
   "outputs": [
    {
     "name": "stdout",
     "output_type": "stream",
     "text": [
      "foodtalkindia  :    Food Talk\n",
      "yourfoodlab  :    Your Food Lab\n",
      "anileo1794  :    Food Blogger\n",
      "dilsefoodie  :    Karan Dua\n",
      "food_toheal_yoursoul  :    Mondip Borgohain | Food\n",
      "food  :    Food\n",
      "food_from_khatyn  :    HATIN\n",
      "food_lunatic  :    Dimple Arora\n",
      "ndtv_food  :    NDTV Food\n",
      "the_food_king_  :    The Food King\n",
      "foodiesince96  :    MEHAK DHAWAN 💕\n",
      "rajshrifood  :    Rajshri Food\n",
      "food_belly11  :    Dilpreet A.k.a Nupur Kochhar\n",
      "foodchoiceofmumbai  :    Food Choice Of Mumbai\n",
      "journeywith_food  :    journey with food\n",
      "buzzfeedfood  :    BuzzFeed Food\n",
      "foodinsider  :    Food Insider\n",
      "foodandmorewithhansie  :    Food & More with Hansie\n",
      "foodie_girl_sneha  :    sneha\n",
      "food_and_makeup_lover  :    MEHNAZ FAROOQUI\n",
      "pune_food_blogger  :    Pune Food Blogger\n",
      "hyderabad.food.diaries  :    Mohd Zubair Ali\n",
      "fityetfoodie  :    Food & Fitness Blogger\n",
      "foodandwine  :    Food & Wine\n",
      "foodofchennai  :    Food of Chennai | Food Blogger\n",
      "delhifoodguide  :    Delhi Food Guide\n",
      "thewickedsoul  :    Coffee, Food & Travel Blogger\n",
      "nukadbhukhad_kitchen  :    Food_Is_My_Dopamine\n",
      "jaipurfoodiegirl  :    𝔽𝕠𝕠𝕕 | 𝕋𝕣𝕒𝕧𝕖𝕝 | ℕ𝕒𝕥𝕦𝕣𝕖 🙌🏻\n",
      "delhifoodnest  :    Rituraj & Mehak | Delhi Food\n",
      "food.bloog  :    ♨️Кулинарный Блог ♨️\n",
      "ruchika_asatkar  :    FOOD BLOGGER & TRAVELER\n",
      "food.flourish  :    FOOD FLOURISH\n",
      "street_food_chandigarh  :    Street Food Chandigarh\n",
      "delhifoodwalks  :    Delhi Food Walks\n",
      "hmm_nikhil  :    Nikhil Chawla | Delhi Food\n",
      "veganfoodspace  :    Vegan Food Space\n",
      "healthy.foodyss  :    Healthy Foods🌱🥦🍗🥩\n",
      "foodelhi  :    Karan Marwah | FOODDelhi\n",
      "concentrate_on_food  :    samriti sachdeva\n",
      "foodie_incarnate  :    Amar Sirohi\n",
      "foodiesdelhite  :    Delhi | Noida | Food | Blogger\n",
      "trippy.on.food  :    Ankita Mehta\n",
      "Food Plaza Restaurant  :    Allahabad\n",
      "Food Court YAME.  :    78 A Muir Road., Allahabad, India\n",
      "foodnetwork  :    Food Network\n",
      "love_food  :    Love Food\n",
      "Angles Food District by Swastik  :    JBH Tower, Ram Mandir Road, Tashkent marg, Allahabad, India\n",
      "misscravingbuster  :    Renuka Jhamtani(Nagpur Food)\n",
      "thepunefoodie  :    Pune Foodie ™️\n"
     ]
    }
   ],
   "source": [
    "# Question 2:\n",
    "printAllName(driver, 'food')"
   ]
  },
  {
   "cell_type": "code",
   "execution_count": 23,
   "metadata": {},
   "outputs": [],
   "source": [
    "# Question 3:\n",
    "searchProfile(driver, 'So Delhi')\n",
    "time.sleep(2)"
   ]
  },
  {
   "cell_type": "code",
   "execution_count": 24,
   "metadata": {},
   "outputs": [
    {
     "name": "stdout",
     "output_type": "stream",
     "text": [
      "followed\n",
      "Already following\n",
      "Unfollowed\n"
     ]
    }
   ],
   "source": [
    "# Question 4:\n",
    "# 4.1\n",
    "driver.find_element_by_css_selector(\"svg[aria-label='Home']\").click() #clicked on home button\n",
    "time.sleep(2)\n",
    "searchProfile(driver, 'So Delhi')\n",
    "time.sleep(3)\n",
    "# 4.2\n",
    "follow(driver)  # first followed\n",
    "time.sleep(1)\n",
    "follow(driver)  # now try to follow again but already following\n",
    "time.sleep(1)\n",
    "# 4.3\n",
    "unfollow(driver)  # now unfollowed"
   ]
  },
  {
   "cell_type": "code",
   "execution_count": 14,
   "metadata": {},
   "outputs": [
    {
     "name": "stdout",
     "output_type": "stream",
     "text": [
      "Photo Number 7 Already liked\n",
      "Photo Number 10 Already liked\n",
      "Photo Number 14 Already liked\n",
      "Photo Number 15 Already liked\n",
      "Photo Number 28 Already liked\n"
     ]
    }
   ],
   "source": [
    "# Question 5:\n",
    "searchProfile(driver, 'dilsefoodie')\n",
    "time.sleep(3)\n",
    "# 5.1\n",
    "likePost(driver) # if already liked then it will be displayed\n",
    "driver.find_element_by_css_selector(\"svg[aria-label='Close']\").click() # close the current post\n",
    "# 5.2\n",
    "unlikePost(driver) # if already unliked then it will be displayed.\n",
    "driver.find_element_by_css_selector(\"svg[aria-label='Close']\").click() # close the current post\n",
    "# since none of the post in top 30 posts are unliked so did not print any post number for unlike"
   ]
  },
  {
   "cell_type": "code",
   "execution_count": 19,
   "metadata": {},
   "outputs": [
    {
     "name": "stdout",
     "output_type": "stream",
     "text": [
      "Mutual followers of foodtalkindia: ['_abhedya', 'insta_nique', 'simran___sagar']\n",
      "Followers who do not follow me back but followes foodtalkindia: ['simran___sagar', 'insta_nique']\n"
     ]
    }
   ],
   "source": [
    "# Question 6:\n",
    "# 6.1 : output of 500 followers name is stored in a list but not printed \n",
    "# to print this huge output just uncomment the print command in function \"first500Followers\"\n",
    "searchProfile(driver, 'foodtalkindia')\n",
    "time.sleep(3)\n",
    "openFollowers = driver.find_elements_by_class_name('-nal3')\n",
    "openFollowers[1].click()\n",
    "#print(\"For foodtalkindia\")\n",
    "first500Followers(driver) #print command is commented for this function written above so output will not be displayed\n",
    "driver.find_element_by_css_selector(\"svg[aria-label='Close']\").click()\n",
    "\n",
    "searchProfile(driver, 'sodelhi')\n",
    "time.sleep(3)\n",
    "openFollowers = driver.find_elements_by_class_name('-nal3')\n",
    "openFollowers[1].click()\n",
    "#print(\"For sodelhi\")\n",
    "first500Followers(driver) #print command is commented for this function written above so output will not be displayed\n",
    "driver.find_element_by_css_selector(\"svg[aria-label='Close']\").click()\n",
    "\n",
    "# 6.2\n",
    "searchProfile(driver, 'foodtalkindia')\n",
    "time.sleep(3)\n",
    "list1 = mutualFollowers(driver)\n",
    "list2 = myFollowers(driver)\n",
    "print(\"Mutual followers of foodtalkindia: \", end = \"\")\n",
    "print(list1)\n",
    "print(\"Followers who do not follow me back but followes foodtalkindia: \", end = \"\")\n",
    "print(list(set(list1) - set(list2)))\n",
    "driver.find_element_by_css_selector(\"svg[aria-label='Close']\").click()"
   ]
  },
  {
   "cell_type": "code",
   "execution_count": 22,
   "metadata": {},
   "outputs": [
    {
     "name": "stdout",
     "output_type": "stream",
     "text": [
      "This story is already seen... No need to see again\n"
     ]
    }
   ],
   "source": [
    "# Question 7\n",
    "searchProfile(driver, 'coding.ninjas')\n",
    "time.sleep(3)\n",
    "stories(driver)"
   ]
  },
  {
   "cell_type": "code",
   "execution_count": 7,
   "metadata": {},
   "outputs": [
    {
     "name": "stdout",
     "output_type": "stream",
     "text": [
      "Geeks\n",
      "For\n"
     ]
    }
   ],
   "source": [
    "test_dict = {'Geeks' : 1, 'For':2,  'is' : 3, 'best' : 4, 'for' : 5, 'CS' : 6}  \n",
    "for x in dict(list(test_dict.items())[0: 2]):\n",
    "    print(x)"
   ]
  },
  {
   "cell_type": "code",
   "execution_count": null,
   "metadata": {},
   "outputs": [],
   "source": []
  }
 ],
 "metadata": {
  "kernelspec": {
   "display_name": "Python 3",
   "language": "python",
   "name": "python3"
  },
  "language_info": {
   "codemirror_mode": {
    "name": "ipython",
    "version": 3
   },
   "file_extension": ".py",
   "mimetype": "text/x-python",
   "name": "python",
   "nbconvert_exporter": "python",
   "pygments_lexer": "ipython3",
   "version": "3.7.3"
  }
 },
 "nbformat": 4,
 "nbformat_minor": 2
}
